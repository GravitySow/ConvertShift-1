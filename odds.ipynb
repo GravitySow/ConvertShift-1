{
 "cells": [
  {
   "cell_type": "code",
   "execution_count": 70,
   "id": "practical-engine",
   "metadata": {},
   "outputs": [],
   "source": [
    "####นายมิตรภาพ สกุลพิสุทธิ์ (มีน)"
   ]
  },
  {
   "cell_type": "code",
   "execution_count": 62,
   "id": "abstract-excuse",
   "metadata": {},
   "outputs": [],
   "source": [
    "def convert(a):\n",
    "    con = \"\"\n",
    "    for c in a:\n",
    "        x = ord(c)\n",
    "        if(x >=3585 and x<=3630 or x >=97 and x<=122 or x >=65 and x<=90):\n",
    "            x += 1\n",
    "        y = chr(x)\n",
    "        con += y\n",
    "    return con"
   ]
  },
  {
   "cell_type": "code",
   "execution_count": 63,
   "id": "rapid-mount",
   "metadata": {},
   "outputs": [],
   "source": [
    "MyRanking = '''A VHF radio\n",
    "เพราะว่าใช้ติดต่อขอความช่วงเหลือจากภายนอกได้ ถ้าไม่มีอาจจะทำให้หาเรายากขึ้น \n",
    "\n",
    "A water container\n",
    "เพราะมนุษย์ต้องการน้ำจืด ถ้าไม่มีน้ำอาจจะไม่รอด\n",
    "\n",
    "Emergency rations\n",
    "เพราะอาหารเป็นสิ่งที่จำเป็นต่อการดำรงชีวิต\n",
    "'''\n",
    "GroupRanking = '''A mosquito net | 12\n",
    "A can of petrol | 10\n",
    "A water container | 5\n",
    "A shaving mirror | 7\n",
    "A sextant | 15\n",
    "Emergency rations | 1\n",
    "A sea chart | 9\n",
    "A floating seat or cushion | 3\n",
    "A rope | 4\n",
    "Some chocolate bars | 2\n",
    "A waterproof sheet | 6\n",
    "A fishing rod | 11\n",
    "Shark repellent | 13\n",
    "A bottle of rum | 8\n",
    "A VHF radio | 14''' "
   ]
  },
  {
   "cell_type": "code",
   "execution_count": 64,
   "id": "subtle-steal",
   "metadata": {},
   "outputs": [
    {
     "name": "stdout",
     "output_type": "stream",
     "text": [
      "My Ranking\n",
      "B WIG sbejp\n",
      "เฟฤาะศ่าใซ้ถิตถ่ฮฃฮฅศายซ่ศจเฬฦืฮฉาขมารบฮขไต้ ท้าไย่ยีฮาฉฉะธำใฬ้ฬาเฤาราขฃึ้บ \n",
      "\n",
      "B xbufs dpoubjofs\n",
      "เฟฤาะยบุสร์ถ้ฮจขาฤบ้ำฉืต ท้าไย่ยีบ้ำฮาฉฉะไย่ฤฮต\n",
      "\n",
      "Fnfshfodz sbujpot\n",
      "เฟฤาะฮาฬาฤเผ็บหิ่จธี่ฉำเผ็บถ่ฮขาฤตำฤจซีศิถ\n",
      "\n"
     ]
    }
   ],
   "source": [
    "print(\"My Ranking\")\n",
    "print(convert(MyRanking))"
   ]
  },
  {
   "cell_type": "code",
   "execution_count": 65,
   "id": "expired-florence",
   "metadata": {},
   "outputs": [
    {
     "name": "stdout",
     "output_type": "stream",
     "text": [
      "Group 2 Ranking\n",
      "B nptrvjup ofu | 12\n",
      "B dbo pg qfuspm | 10\n",
      "B xbufs dpoubjofs | 5\n",
      "B tibwjoh njssps | 7\n",
      "B tfyubou | 15\n",
      "Fnfshfodz sbujpot | 1\n",
      "B tfb dibsu | 9\n",
      "B gmpbujoh tfbu ps dvtijpo | 3\n",
      "B spqf | 4\n",
      "Tpnf dipdpmbuf cbst | 2\n",
      "B xbufsqsppg tiffu | 6\n",
      "B gjtijoh spe | 11\n",
      "Tibsl sfqfmmfou | 13\n",
      "B cpuumf pg svn | 8\n",
      "B WIG sbejp | 14\n"
     ]
    }
   ],
   "source": [
    "print(\"Group 2 Ranking\")\n",
    "print(convert(GroupRanking))"
   ]
  }
 ],
 "metadata": {
  "kernelspec": {
   "display_name": "Python 3",
   "language": "python",
   "name": "python3"
  },
  "language_info": {
   "codemirror_mode": {
    "name": "ipython",
    "version": 3
   },
   "file_extension": ".py",
   "mimetype": "text/x-python",
   "name": "python",
   "nbconvert_exporter": "python",
   "pygments_lexer": "ipython3",
   "version": "3.8.5"
  }
 },
 "nbformat": 4,
 "nbformat_minor": 5
}
